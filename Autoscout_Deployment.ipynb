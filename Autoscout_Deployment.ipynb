{
 "cells": [
  {
   "cell_type": "code",
   "execution_count": 4,
   "id": "022e2011",
   "metadata": {},
   "outputs": [
    {
     "name": "stdout",
     "output_type": "stream",
     "text": [
      "Collecting seabornNote: you may need to restart the kernel to use updated packages.\n",
      "\n",
      "  Using cached seaborn-0.12.2-py3-none-any.whl (293 kB)\n",
      "Requirement already satisfied: numpy!=1.24.0,>=1.17 in c:\\users\\asus\\deployment\\mld_project\\autoscout_deployment\\lib\\site-packages (from seaborn) (1.24.3)\n",
      "Requirement already satisfied: pandas>=0.25 in c:\\users\\asus\\deployment\\mld_project\\autoscout_deployment\\lib\\site-packages (from seaborn) (2.0.1)\n",
      "Collecting matplotlib!=3.6.1,>=3.1\n",
      "  Using cached matplotlib-3.7.1-cp311-cp311-win_amd64.whl (7.6 MB)\n",
      "Collecting contourpy>=1.0.1\n",
      "  Using cached contourpy-1.0.7-cp311-cp311-win_amd64.whl (162 kB)\n",
      "Collecting cycler>=0.10\n",
      "  Using cached cycler-0.11.0-py3-none-any.whl (6.4 kB)\n",
      "Collecting fonttools>=4.22.0\n",
      "  Using cached fonttools-4.39.3-py3-none-any.whl (1.0 MB)\n",
      "Collecting kiwisolver>=1.0.1\n",
      "  Using cached kiwisolver-1.4.4-cp311-cp311-win_amd64.whl (55 kB)\n",
      "Requirement already satisfied: packaging>=20.0 in c:\\users\\asus\\deployment\\mld_project\\autoscout_deployment\\lib\\site-packages (from matplotlib!=3.6.1,>=3.1->seaborn) (23.1)\n",
      "Requirement already satisfied: pillow>=6.2.0 in c:\\users\\asus\\deployment\\mld_project\\autoscout_deployment\\lib\\site-packages (from matplotlib!=3.6.1,>=3.1->seaborn) (9.5.0)\n",
      "Collecting pyparsing>=2.3.1\n",
      "  Using cached pyparsing-3.0.9-py3-none-any.whl (98 kB)\n",
      "Requirement already satisfied: python-dateutil>=2.7 in c:\\users\\asus\\deployment\\mld_project\\autoscout_deployment\\lib\\site-packages (from matplotlib!=3.6.1,>=3.1->seaborn) (2.8.2)\n",
      "Requirement already satisfied: pytz>=2020.1 in c:\\users\\asus\\deployment\\mld_project\\autoscout_deployment\\lib\\site-packages (from pandas>=0.25->seaborn) (2023.3)\n",
      "Requirement already satisfied: tzdata>=2022.1 in c:\\users\\asus\\deployment\\mld_project\\autoscout_deployment\\lib\\site-packages (from pandas>=0.25->seaborn) (2023.3)\n",
      "Requirement already satisfied: six>=1.5 in c:\\users\\asus\\deployment\\mld_project\\autoscout_deployment\\lib\\site-packages (from python-dateutil>=2.7->matplotlib!=3.6.1,>=3.1->seaborn) (1.16.0)\n",
      "Installing collected packages: pyparsing, kiwisolver, fonttools, cycler, contourpy, matplotlib, seaborn\n",
      "Successfully installed contourpy-1.0.7 cycler-0.11.0 fonttools-4.39.3 kiwisolver-1.4.4 matplotlib-3.7.1 pyparsing-3.0.9 seaborn-0.12.2\n"
     ]
    },
    {
     "name": "stderr",
     "output_type": "stream",
     "text": [
      "\n",
      "[notice] A new release of pip available: 22.3 -> 23.1.2\n",
      "[notice] To update, run: python.exe -m pip install --upgrade pip\n"
     ]
    }
   ],
   "source": [
    "# pip install seaborn"
   ]
  },
  {
   "cell_type": "code",
   "execution_count": 1,
   "id": "8134af72",
   "metadata": {},
   "outputs": [],
   "source": [
    "import numpy as np\n",
    "import pandas as pd\n",
    "import seaborn as sns\n",
    "from sklearn.metrics import mean_squared_error, mean_absolute_error, r2_score\n",
    "from sklearn.model_selection import train_test_split\n",
    "import warnings\n",
    "warnings.filterwarnings('ignore')\n",
    "pd.set_option('display.max_columns', 500)\n",
    "pd.set_option('display.max_rows', 1000)\n",
    "pd.options.display.float_format = '{:.3f}'.format"
   ]
  },
  {
   "cell_type": "code",
   "execution_count": 2,
   "id": "581cfc9a",
   "metadata": {},
   "outputs": [],
   "source": [
    "df=pd.read_csv(\"final_scout_not_dummy.csv\")"
   ]
  },
  {
   "cell_type": "code",
   "execution_count": 3,
   "id": "35a9eaa2",
   "metadata": {},
   "outputs": [
    {
     "data": {
      "text/html": [
       "<div>\n",
       "<style scoped>\n",
       "    .dataframe tbody tr th:only-of-type {\n",
       "        vertical-align: middle;\n",
       "    }\n",
       "\n",
       "    .dataframe tbody tr th {\n",
       "        vertical-align: top;\n",
       "    }\n",
       "\n",
       "    .dataframe thead th {\n",
       "        text-align: right;\n",
       "    }\n",
       "</style>\n",
       "<table border=\"1\" class=\"dataframe\">\n",
       "  <thead>\n",
       "    <tr style=\"text-align: right;\">\n",
       "      <th></th>\n",
       "      <th>make_model</th>\n",
       "      <th>body_type</th>\n",
       "      <th>price</th>\n",
       "      <th>vat</th>\n",
       "      <th>km</th>\n",
       "      <th>Type</th>\n",
       "      <th>Fuel</th>\n",
       "      <th>Gears</th>\n",
       "      <th>Comfort_Convenience</th>\n",
       "      <th>Entertainment_Media</th>\n",
       "      <th>Extras</th>\n",
       "      <th>Safety_Security</th>\n",
       "      <th>age</th>\n",
       "      <th>Previous_Owners</th>\n",
       "      <th>hp_kW</th>\n",
       "      <th>Inspection_new</th>\n",
       "      <th>Paint_Type</th>\n",
       "      <th>Upholstery_type</th>\n",
       "      <th>Gearing_Type</th>\n",
       "      <th>Displacement_cc</th>\n",
       "      <th>Weight_kg</th>\n",
       "      <th>Drive_chain</th>\n",
       "      <th>cons_comb</th>\n",
       "    </tr>\n",
       "  </thead>\n",
       "  <tbody>\n",
       "    <tr>\n",
       "      <th>0</th>\n",
       "      <td>Audi A1</td>\n",
       "      <td>Sedans</td>\n",
       "      <td>15770</td>\n",
       "      <td>VAT deductible</td>\n",
       "      <td>56013.000</td>\n",
       "      <td>Used</td>\n",
       "      <td>Diesel</td>\n",
       "      <td>7.000</td>\n",
       "      <td>Air conditioning,Armrest,Automatic climate con...</td>\n",
       "      <td>Bluetooth,Hands-free equipment,On-board comput...</td>\n",
       "      <td>Alloy wheels,Catalytic Converter,Voice Control</td>\n",
       "      <td>ABS,Central door lock,Daytime running lights,D...</td>\n",
       "      <td>3.000</td>\n",
       "      <td>2.000</td>\n",
       "      <td>66.000</td>\n",
       "      <td>1</td>\n",
       "      <td>Metallic</td>\n",
       "      <td>Cloth</td>\n",
       "      <td>Automatic</td>\n",
       "      <td>1422.000</td>\n",
       "      <td>1220.000</td>\n",
       "      <td>front</td>\n",
       "      <td>3.800</td>\n",
       "    </tr>\n",
       "    <tr>\n",
       "      <th>1</th>\n",
       "      <td>Audi A1</td>\n",
       "      <td>Sedans</td>\n",
       "      <td>14500</td>\n",
       "      <td>Price negotiable</td>\n",
       "      <td>80000.000</td>\n",
       "      <td>Used</td>\n",
       "      <td>Benzine</td>\n",
       "      <td>7.000</td>\n",
       "      <td>Air conditioning,Automatic climate control,Hil...</td>\n",
       "      <td>Bluetooth,Hands-free equipment,On-board comput...</td>\n",
       "      <td>Alloy wheels,Sport seats,Sport suspension,Voic...</td>\n",
       "      <td>ABS,Central door lock,Central door lock with r...</td>\n",
       "      <td>2.000</td>\n",
       "      <td>1.000</td>\n",
       "      <td>141.000</td>\n",
       "      <td>0</td>\n",
       "      <td>Metallic</td>\n",
       "      <td>Cloth</td>\n",
       "      <td>Automatic</td>\n",
       "      <td>1798.000</td>\n",
       "      <td>1255.000</td>\n",
       "      <td>front</td>\n",
       "      <td>5.600</td>\n",
       "    </tr>\n",
       "    <tr>\n",
       "      <th>2</th>\n",
       "      <td>Audi A1</td>\n",
       "      <td>Sedans</td>\n",
       "      <td>14640</td>\n",
       "      <td>VAT deductible</td>\n",
       "      <td>83450.000</td>\n",
       "      <td>Used</td>\n",
       "      <td>Diesel</td>\n",
       "      <td>7.000</td>\n",
       "      <td>Air conditioning,Cruise control,Electrical sid...</td>\n",
       "      <td>MP3,On-board computer</td>\n",
       "      <td>Alloy wheels,Voice Control</td>\n",
       "      <td>ABS,Central door lock,Daytime running lights,D...</td>\n",
       "      <td>3.000</td>\n",
       "      <td>1.000</td>\n",
       "      <td>85.000</td>\n",
       "      <td>0</td>\n",
       "      <td>Metallic</td>\n",
       "      <td>Cloth</td>\n",
       "      <td>Automatic</td>\n",
       "      <td>1598.000</td>\n",
       "      <td>1135.000</td>\n",
       "      <td>front</td>\n",
       "      <td>3.800</td>\n",
       "    </tr>\n",
       "    <tr>\n",
       "      <th>3</th>\n",
       "      <td>Audi A1</td>\n",
       "      <td>Sedans</td>\n",
       "      <td>14500</td>\n",
       "      <td>VAT deductible</td>\n",
       "      <td>73000.000</td>\n",
       "      <td>Used</td>\n",
       "      <td>Diesel</td>\n",
       "      <td>6.000</td>\n",
       "      <td>Air suspension,Armrest,Auxiliary heating,Elect...</td>\n",
       "      <td>Bluetooth,CD player,Hands-free equipment,MP3,O...</td>\n",
       "      <td>Alloy wheels,Sport seats,Voice Control</td>\n",
       "      <td>ABS,Alarm system,Central door lock with remote...</td>\n",
       "      <td>3.000</td>\n",
       "      <td>1.000</td>\n",
       "      <td>66.000</td>\n",
       "      <td>0</td>\n",
       "      <td>Metallic</td>\n",
       "      <td>Cloth</td>\n",
       "      <td>Automatic</td>\n",
       "      <td>1422.000</td>\n",
       "      <td>1195.000</td>\n",
       "      <td>front</td>\n",
       "      <td>3.800</td>\n",
       "    </tr>\n",
       "    <tr>\n",
       "      <th>4</th>\n",
       "      <td>Audi A1</td>\n",
       "      <td>Sedans</td>\n",
       "      <td>16790</td>\n",
       "      <td>VAT deductible</td>\n",
       "      <td>16200.000</td>\n",
       "      <td>Used</td>\n",
       "      <td>Diesel</td>\n",
       "      <td>7.000</td>\n",
       "      <td>Air conditioning,Armrest,Automatic climate con...</td>\n",
       "      <td>Bluetooth,CD player,Hands-free equipment,MP3,O...</td>\n",
       "      <td>Alloy wheels,Sport package,Sport suspension,Vo...</td>\n",
       "      <td>ABS,Central door lock,Driver-side airbag,Elect...</td>\n",
       "      <td>3.000</td>\n",
       "      <td>1.000</td>\n",
       "      <td>66.000</td>\n",
       "      <td>1</td>\n",
       "      <td>Metallic</td>\n",
       "      <td>Cloth</td>\n",
       "      <td>Automatic</td>\n",
       "      <td>1422.000</td>\n",
       "      <td>1135.000</td>\n",
       "      <td>front</td>\n",
       "      <td>4.100</td>\n",
       "    </tr>\n",
       "  </tbody>\n",
       "</table>\n",
       "</div>"
      ],
      "text/plain": [
       "  make_model body_type  price               vat        km  Type     Fuel   \n",
       "0    Audi A1    Sedans  15770    VAT deductible 56013.000  Used   Diesel  \\\n",
       "1    Audi A1    Sedans  14500  Price negotiable 80000.000  Used  Benzine   \n",
       "2    Audi A1    Sedans  14640    VAT deductible 83450.000  Used   Diesel   \n",
       "3    Audi A1    Sedans  14500    VAT deductible 73000.000  Used   Diesel   \n",
       "4    Audi A1    Sedans  16790    VAT deductible 16200.000  Used   Diesel   \n",
       "\n",
       "   Gears                                Comfort_Convenience   \n",
       "0  7.000  Air conditioning,Armrest,Automatic climate con...  \\\n",
       "1  7.000  Air conditioning,Automatic climate control,Hil...   \n",
       "2  7.000  Air conditioning,Cruise control,Electrical sid...   \n",
       "3  6.000  Air suspension,Armrest,Auxiliary heating,Elect...   \n",
       "4  7.000  Air conditioning,Armrest,Automatic climate con...   \n",
       "\n",
       "                                 Entertainment_Media   \n",
       "0  Bluetooth,Hands-free equipment,On-board comput...  \\\n",
       "1  Bluetooth,Hands-free equipment,On-board comput...   \n",
       "2                              MP3,On-board computer   \n",
       "3  Bluetooth,CD player,Hands-free equipment,MP3,O...   \n",
       "4  Bluetooth,CD player,Hands-free equipment,MP3,O...   \n",
       "\n",
       "                                              Extras   \n",
       "0     Alloy wheels,Catalytic Converter,Voice Control  \\\n",
       "1  Alloy wheels,Sport seats,Sport suspension,Voic...   \n",
       "2                         Alloy wheels,Voice Control   \n",
       "3             Alloy wheels,Sport seats,Voice Control   \n",
       "4  Alloy wheels,Sport package,Sport suspension,Vo...   \n",
       "\n",
       "                                     Safety_Security   age  Previous_Owners   \n",
       "0  ABS,Central door lock,Daytime running lights,D... 3.000            2.000  \\\n",
       "1  ABS,Central door lock,Central door lock with r... 2.000            1.000   \n",
       "2  ABS,Central door lock,Daytime running lights,D... 3.000            1.000   \n",
       "3  ABS,Alarm system,Central door lock with remote... 3.000            1.000   \n",
       "4  ABS,Central door lock,Driver-side airbag,Elect... 3.000            1.000   \n",
       "\n",
       "    hp_kW  Inspection_new Paint_Type Upholstery_type Gearing_Type   \n",
       "0  66.000               1   Metallic           Cloth    Automatic  \\\n",
       "1 141.000               0   Metallic           Cloth    Automatic   \n",
       "2  85.000               0   Metallic           Cloth    Automatic   \n",
       "3  66.000               0   Metallic           Cloth    Automatic   \n",
       "4  66.000               1   Metallic           Cloth    Automatic   \n",
       "\n",
       "   Displacement_cc  Weight_kg Drive_chain  cons_comb  \n",
       "0         1422.000   1220.000       front      3.800  \n",
       "1         1798.000   1255.000       front      5.600  \n",
       "2         1598.000   1135.000       front      3.800  \n",
       "3         1422.000   1195.000       front      3.800  \n",
       "4         1422.000   1135.000       front      4.100  "
      ]
     },
     "execution_count": 3,
     "metadata": {},
     "output_type": "execute_result"
    }
   ],
   "source": [
    "df.head(5)"
   ]
  },
  {
   "cell_type": "code",
   "execution_count": 4,
   "id": "4d6ca034",
   "metadata": {},
   "outputs": [
    {
     "data": {
      "text/plain": [
       "(15915, 23)"
      ]
     },
     "execution_count": 4,
     "metadata": {},
     "output_type": "execute_result"
    }
   ],
   "source": [
    "df.shape"
   ]
  },
  {
   "cell_type": "code",
   "execution_count": 5,
   "id": "ab276447",
   "metadata": {},
   "outputs": [
    {
     "data": {
      "text/plain": [
       "make_model             0\n",
       "body_type              0\n",
       "price                  0\n",
       "vat                    0\n",
       "km                     0\n",
       "Type                   0\n",
       "Fuel                   0\n",
       "Gears                  0\n",
       "Comfort_Convenience    0\n",
       "Entertainment_Media    0\n",
       "Extras                 0\n",
       "Safety_Security        0\n",
       "age                    0\n",
       "Previous_Owners        0\n",
       "hp_kW                  0\n",
       "Inspection_new         0\n",
       "Paint_Type             0\n",
       "Upholstery_type        0\n",
       "Gearing_Type           0\n",
       "Displacement_cc        0\n",
       "Weight_kg              0\n",
       "Drive_chain            0\n",
       "cons_comb              0\n",
       "dtype: int64"
      ]
     },
     "execution_count": 5,
     "metadata": {},
     "output_type": "execute_result"
    }
   ],
   "source": [
    "df.isnull().sum()"
   ]
  },
  {
   "cell_type": "code",
   "execution_count": 6,
   "id": "f1995f10",
   "metadata": {},
   "outputs": [
    {
     "data": {
      "text/plain": [
       "1673"
      ]
     },
     "execution_count": 6,
     "metadata": {},
     "output_type": "execute_result"
    }
   ],
   "source": [
    "df.duplicated().sum()"
   ]
  },
  {
   "cell_type": "code",
   "execution_count": 7,
   "id": "75c5f54d",
   "metadata": {},
   "outputs": [],
   "source": [
    "df.drop_duplicates(inplace=True)"
   ]
  },
  {
   "cell_type": "code",
   "execution_count": 8,
   "id": "de095dba",
   "metadata": {},
   "outputs": [
    {
     "data": {
      "text/plain": [
       "0"
      ]
     },
     "execution_count": 8,
     "metadata": {},
     "output_type": "execute_result"
    }
   ],
   "source": [
    "df.duplicated().sum()"
   ]
  },
  {
   "cell_type": "code",
   "execution_count": 9,
   "id": "dbc88718",
   "metadata": {},
   "outputs": [
    {
     "data": {
      "text/plain": [
       "make_model\n",
       "Audi A3           2758\n",
       "Opel Insignia     2417\n",
       "Audi A1           2377\n",
       "Opel Astra        2305\n",
       "Opel Corsa        1994\n",
       "Renault Clio      1486\n",
       "Renault Espace     884\n",
       "Renault Duster      20\n",
       "Audi A2              1\n",
       "Name: count, dtype: int64"
      ]
     },
     "execution_count": 9,
     "metadata": {},
     "output_type": "execute_result"
    }
   ],
   "source": [
    "df.make_model.value_counts()"
   ]
  },
  {
   "cell_type": "code",
   "execution_count": 10,
   "id": "a2ab8976",
   "metadata": {},
   "outputs": [
    {
     "data": {
      "text/plain": [
       "Index(['Renault Duster', 'Audi A2'], dtype='object', name='make_model')"
      ]
     },
     "execution_count": 10,
     "metadata": {},
     "output_type": "execute_result"
    }
   ],
   "source": [
    "drop_model = df.make_model.value_counts()[df.make_model.value_counts() <= 100].index\n",
    "drop_model"
   ]
  },
  {
   "cell_type": "code",
   "execution_count": 11,
   "id": "278dc85a",
   "metadata": {},
   "outputs": [],
   "source": [
    "for i in drop_model:\n",
    "    drop_index = df[df['make_model'] == i].index\n",
    "    df.drop(index = drop_index, inplace=True)\n",
    "    \n",
    "df.reset_index(drop=True, inplace=True)"
   ]
  },
  {
   "cell_type": "code",
   "execution_count": 12,
   "id": "176b6ab6",
   "metadata": {},
   "outputs": [
    {
     "data": {
      "text/html": [
       "<div>\n",
       "<style scoped>\n",
       "    .dataframe tbody tr th:only-of-type {\n",
       "        vertical-align: middle;\n",
       "    }\n",
       "\n",
       "    .dataframe tbody tr th {\n",
       "        vertical-align: top;\n",
       "    }\n",
       "\n",
       "    .dataframe thead th {\n",
       "        text-align: right;\n",
       "    }\n",
       "</style>\n",
       "<table border=\"1\" class=\"dataframe\">\n",
       "  <thead>\n",
       "    <tr style=\"text-align: right;\">\n",
       "      <th></th>\n",
       "      <th>make_model</th>\n",
       "      <th>body_type</th>\n",
       "      <th>price</th>\n",
       "      <th>vat</th>\n",
       "      <th>km</th>\n",
       "      <th>Type</th>\n",
       "      <th>Fuel</th>\n",
       "      <th>Gears</th>\n",
       "      <th>Comfort_Convenience</th>\n",
       "      <th>Entertainment_Media</th>\n",
       "      <th>Extras</th>\n",
       "      <th>Safety_Security</th>\n",
       "      <th>age</th>\n",
       "      <th>Previous_Owners</th>\n",
       "      <th>hp_kW</th>\n",
       "      <th>Inspection_new</th>\n",
       "      <th>Paint_Type</th>\n",
       "      <th>Upholstery_type</th>\n",
       "      <th>Gearing_Type</th>\n",
       "      <th>Displacement_cc</th>\n",
       "      <th>Weight_kg</th>\n",
       "      <th>Drive_chain</th>\n",
       "      <th>cons_comb</th>\n",
       "    </tr>\n",
       "  </thead>\n",
       "  <tbody>\n",
       "    <tr>\n",
       "      <th>10952</th>\n",
       "      <td>Opel Insignia</td>\n",
       "      <td>Station wagon</td>\n",
       "      <td>22400</td>\n",
       "      <td>VAT deductible</td>\n",
       "      <td>53923.000</td>\n",
       "      <td>Used</td>\n",
       "      <td>Diesel</td>\n",
       "      <td>6.000</td>\n",
       "      <td>Air conditioning,Armrest,Automatic climate con...</td>\n",
       "      <td>Bluetooth,Hands-free equipment,On-board comput...</td>\n",
       "      <td>Alloy wheels,Roof rack</td>\n",
       "      <td>ABS,Adaptive headlights,Central door lock,Dayt...</td>\n",
       "      <td>1.000</td>\n",
       "      <td>1.000</td>\n",
       "      <td>125.000</td>\n",
       "      <td>0</td>\n",
       "      <td>Metallic</td>\n",
       "      <td>Part/Full Leather</td>\n",
       "      <td>Automatic</td>\n",
       "      <td>1598.000</td>\n",
       "      <td>1487.000</td>\n",
       "      <td>front</td>\n",
       "      <td>5.600</td>\n",
       "    </tr>\n",
       "    <tr>\n",
       "      <th>5823</th>\n",
       "      <td>Opel Astra</td>\n",
       "      <td>Sedans</td>\n",
       "      <td>16990</td>\n",
       "      <td>VAT deductible</td>\n",
       "      <td>25350.000</td>\n",
       "      <td>Used</td>\n",
       "      <td>Benzine</td>\n",
       "      <td>5.000</td>\n",
       "      <td>Air conditioning,Automatic climate control,Cru...</td>\n",
       "      <td>Bluetooth,CD player,MP3,On-board computer,Radio</td>\n",
       "      <td>Alloy wheels</td>\n",
       "      <td>Fog lights,Immobilizer,LED Headlights,Power st...</td>\n",
       "      <td>1.000</td>\n",
       "      <td>1.000</td>\n",
       "      <td>77.000</td>\n",
       "      <td>0</td>\n",
       "      <td>Metallic</td>\n",
       "      <td>Part/Full Leather</td>\n",
       "      <td>Semi-automatic</td>\n",
       "      <td>999.000</td>\n",
       "      <td>1273.000</td>\n",
       "      <td>front</td>\n",
       "      <td>4.900</td>\n",
       "    </tr>\n",
       "    <tr>\n",
       "      <th>13118</th>\n",
       "      <td>Renault Clio</td>\n",
       "      <td>Compact</td>\n",
       "      <td>10389</td>\n",
       "      <td>VAT deductible</td>\n",
       "      <td>1000.000</td>\n",
       "      <td>Used</td>\n",
       "      <td>Benzine</td>\n",
       "      <td>5.000</td>\n",
       "      <td>Air conditioning,Cruise control,Electrical sid...</td>\n",
       "      <td>Bluetooth,Digital radio,Hands-free equipment,M...</td>\n",
       "      <td>Alloy wheels</td>\n",
       "      <td>ABS,Central door lock,Daytime running lights,D...</td>\n",
       "      <td>0.000</td>\n",
       "      <td>1.000</td>\n",
       "      <td>56.000</td>\n",
       "      <td>0</td>\n",
       "      <td>Metallic</td>\n",
       "      <td>Cloth</td>\n",
       "      <td>Manual</td>\n",
       "      <td>898.000</td>\n",
       "      <td>1100.000</td>\n",
       "      <td>front</td>\n",
       "      <td>5.000</td>\n",
       "    </tr>\n",
       "    <tr>\n",
       "      <th>7303</th>\n",
       "      <td>Opel Astra</td>\n",
       "      <td>Sedans</td>\n",
       "      <td>18890</td>\n",
       "      <td>VAT deductible</td>\n",
       "      <td>20.000</td>\n",
       "      <td>New</td>\n",
       "      <td>Benzine</td>\n",
       "      <td>6.000</td>\n",
       "      <td>Air conditioning,Cruise control,Electrical sid...</td>\n",
       "      <td>Bluetooth,Hands-free equipment,On-board comput...</td>\n",
       "      <td>Alloy wheels,Touch screen</td>\n",
       "      <td>ABS,Central door lock,Daytime running lights,D...</td>\n",
       "      <td>0.000</td>\n",
       "      <td>1.000</td>\n",
       "      <td>110.000</td>\n",
       "      <td>0</td>\n",
       "      <td>Metallic</td>\n",
       "      <td>Cloth</td>\n",
       "      <td>Manual</td>\n",
       "      <td>1399.000</td>\n",
       "      <td>1273.000</td>\n",
       "      <td>front</td>\n",
       "      <td>5.400</td>\n",
       "    </tr>\n",
       "    <tr>\n",
       "      <th>288</th>\n",
       "      <td>Audi A1</td>\n",
       "      <td>Sedans</td>\n",
       "      <td>14450</td>\n",
       "      <td>VAT deductible</td>\n",
       "      <td>49466.000</td>\n",
       "      <td>Used</td>\n",
       "      <td>Diesel</td>\n",
       "      <td>7.000</td>\n",
       "      <td>Air conditioning,Electrical side mirrors,Hill ...</td>\n",
       "      <td>Bluetooth,Hands-free equipment,MP3,On-board co...</td>\n",
       "      <td>Voice Control</td>\n",
       "      <td>ABS,Central door lock,Daytime running lights,D...</td>\n",
       "      <td>3.000</td>\n",
       "      <td>1.000</td>\n",
       "      <td>66.000</td>\n",
       "      <td>1</td>\n",
       "      <td>Metallic</td>\n",
       "      <td>Cloth</td>\n",
       "      <td>Automatic</td>\n",
       "      <td>1422.000</td>\n",
       "      <td>1135.000</td>\n",
       "      <td>front</td>\n",
       "      <td>4.100</td>\n",
       "    </tr>\n",
       "  </tbody>\n",
       "</table>\n",
       "</div>"
      ],
      "text/plain": [
       "          make_model      body_type  price             vat        km  Type   \n",
       "10952  Opel Insignia  Station wagon  22400  VAT deductible 53923.000  Used  \\\n",
       "5823      Opel Astra         Sedans  16990  VAT deductible 25350.000  Used   \n",
       "13118   Renault Clio        Compact  10389  VAT deductible  1000.000  Used   \n",
       "7303      Opel Astra         Sedans  18890  VAT deductible    20.000   New   \n",
       "288          Audi A1         Sedans  14450  VAT deductible 49466.000  Used   \n",
       "\n",
       "          Fuel  Gears                                Comfort_Convenience   \n",
       "10952   Diesel  6.000  Air conditioning,Armrest,Automatic climate con...  \\\n",
       "5823   Benzine  5.000  Air conditioning,Automatic climate control,Cru...   \n",
       "13118  Benzine  5.000  Air conditioning,Cruise control,Electrical sid...   \n",
       "7303   Benzine  6.000  Air conditioning,Cruise control,Electrical sid...   \n",
       "288     Diesel  7.000  Air conditioning,Electrical side mirrors,Hill ...   \n",
       "\n",
       "                                     Entertainment_Media   \n",
       "10952  Bluetooth,Hands-free equipment,On-board comput...  \\\n",
       "5823     Bluetooth,CD player,MP3,On-board computer,Radio   \n",
       "13118  Bluetooth,Digital radio,Hands-free equipment,M...   \n",
       "7303   Bluetooth,Hands-free equipment,On-board comput...   \n",
       "288    Bluetooth,Hands-free equipment,MP3,On-board co...   \n",
       "\n",
       "                          Extras   \n",
       "10952     Alloy wheels,Roof rack  \\\n",
       "5823                Alloy wheels   \n",
       "13118               Alloy wheels   \n",
       "7303   Alloy wheels,Touch screen   \n",
       "288                Voice Control   \n",
       "\n",
       "                                         Safety_Security   age   \n",
       "10952  ABS,Adaptive headlights,Central door lock,Dayt... 1.000  \\\n",
       "5823   Fog lights,Immobilizer,LED Headlights,Power st... 1.000   \n",
       "13118  ABS,Central door lock,Daytime running lights,D... 0.000   \n",
       "7303   ABS,Central door lock,Daytime running lights,D... 0.000   \n",
       "288    ABS,Central door lock,Daytime running lights,D... 3.000   \n",
       "\n",
       "       Previous_Owners   hp_kW  Inspection_new Paint_Type    Upholstery_type   \n",
       "10952            1.000 125.000               0   Metallic  Part/Full Leather  \\\n",
       "5823             1.000  77.000               0   Metallic  Part/Full Leather   \n",
       "13118            1.000  56.000               0   Metallic              Cloth   \n",
       "7303             1.000 110.000               0   Metallic              Cloth   \n",
       "288              1.000  66.000               1   Metallic              Cloth   \n",
       "\n",
       "         Gearing_Type  Displacement_cc  Weight_kg Drive_chain  cons_comb  \n",
       "10952       Automatic         1598.000   1487.000       front      5.600  \n",
       "5823   Semi-automatic          999.000   1273.000       front      4.900  \n",
       "13118          Manual          898.000   1100.000       front      5.000  \n",
       "7303           Manual         1399.000   1273.000       front      5.400  \n",
       "288         Automatic         1422.000   1135.000       front      4.100  "
      ]
     },
     "execution_count": 12,
     "metadata": {},
     "output_type": "execute_result"
    }
   ],
   "source": [
    "df.sample(5)"
   ]
  },
  {
   "cell_type": "code",
   "execution_count": 13,
   "id": "9061a294",
   "metadata": {},
   "outputs": [
    {
     "data": {
      "text/plain": [
       "make_model\n",
       "Audi A3           2758\n",
       "Opel Insignia     2417\n",
       "Audi A1           2377\n",
       "Opel Astra        2305\n",
       "Opel Corsa        1994\n",
       "Renault Clio      1486\n",
       "Renault Espace     884\n",
       "Name: count, dtype: int64"
      ]
     },
     "execution_count": 13,
     "metadata": {},
     "output_type": "execute_result"
    }
   ],
   "source": [
    "df.make_model.value_counts()"
   ]
  },
  {
   "cell_type": "code",
   "execution_count": 14,
   "id": "4f7dd8cc",
   "metadata": {},
   "outputs": [
    {
     "name": "stdout",
     "output_type": "stream",
     "text": [
      "<class 'pandas.core.frame.DataFrame'>\n",
      "RangeIndex: 14221 entries, 0 to 14220\n",
      "Data columns (total 23 columns):\n",
      " #   Column               Non-Null Count  Dtype  \n",
      "---  ------               --------------  -----  \n",
      " 0   make_model           14221 non-null  object \n",
      " 1   body_type            14221 non-null  object \n",
      " 2   price                14221 non-null  int64  \n",
      " 3   vat                  14221 non-null  object \n",
      " 4   km                   14221 non-null  float64\n",
      " 5   Type                 14221 non-null  object \n",
      " 6   Fuel                 14221 non-null  object \n",
      " 7   Gears                14221 non-null  float64\n",
      " 8   Comfort_Convenience  14221 non-null  object \n",
      " 9   Entertainment_Media  14221 non-null  object \n",
      " 10  Extras               14221 non-null  object \n",
      " 11  Safety_Security      14221 non-null  object \n",
      " 12  age                  14221 non-null  float64\n",
      " 13  Previous_Owners      14221 non-null  float64\n",
      " 14  hp_kW                14221 non-null  float64\n",
      " 15  Inspection_new       14221 non-null  int64  \n",
      " 16  Paint_Type           14221 non-null  object \n",
      " 17  Upholstery_type      14221 non-null  object \n",
      " 18  Gearing_Type         14221 non-null  object \n",
      " 19  Displacement_cc      14221 non-null  float64\n",
      " 20  Weight_kg            14221 non-null  float64\n",
      " 21  Drive_chain          14221 non-null  object \n",
      " 22  cons_comb            14221 non-null  float64\n",
      "dtypes: float64(8), int64(2), object(13)\n",
      "memory usage: 2.5+ MB\n"
     ]
    }
   ],
   "source": [
    "df.info()"
   ]
  },
  {
   "cell_type": "code",
   "execution_count": 15,
   "id": "79fc06a5",
   "metadata": {},
   "outputs": [
    {
     "data": {
      "text/html": [
       "<div>\n",
       "<style scoped>\n",
       "    .dataframe tbody tr th:only-of-type {\n",
       "        vertical-align: middle;\n",
       "    }\n",
       "\n",
       "    .dataframe tbody tr th {\n",
       "        vertical-align: top;\n",
       "    }\n",
       "\n",
       "    .dataframe thead th {\n",
       "        text-align: right;\n",
       "    }\n",
       "</style>\n",
       "<table border=\"1\" class=\"dataframe\">\n",
       "  <thead>\n",
       "    <tr style=\"text-align: right;\">\n",
       "      <th></th>\n",
       "      <th>count</th>\n",
       "      <th>mean</th>\n",
       "      <th>std</th>\n",
       "      <th>min</th>\n",
       "      <th>25%</th>\n",
       "      <th>50%</th>\n",
       "      <th>75%</th>\n",
       "      <th>max</th>\n",
       "    </tr>\n",
       "  </thead>\n",
       "  <tbody>\n",
       "    <tr>\n",
       "      <th>price</th>\n",
       "      <td>14221.000</td>\n",
       "      <td>18107.423</td>\n",
       "      <td>7423.513</td>\n",
       "      <td>4950.000</td>\n",
       "      <td>12950.000</td>\n",
       "      <td>16950.000</td>\n",
       "      <td>21900.000</td>\n",
       "      <td>74600.000</td>\n",
       "    </tr>\n",
       "    <tr>\n",
       "      <th>km</th>\n",
       "      <td>14221.000</td>\n",
       "      <td>32627.045</td>\n",
       "      <td>36864.910</td>\n",
       "      <td>0.000</td>\n",
       "      <td>3921.000</td>\n",
       "      <td>21085.000</td>\n",
       "      <td>47000.000</td>\n",
       "      <td>317000.000</td>\n",
       "    </tr>\n",
       "    <tr>\n",
       "      <th>Gears</th>\n",
       "      <td>14221.000</td>\n",
       "      <td>5.939</td>\n",
       "      <td>0.703</td>\n",
       "      <td>5.000</td>\n",
       "      <td>5.000</td>\n",
       "      <td>6.000</td>\n",
       "      <td>6.000</td>\n",
       "      <td>8.000</td>\n",
       "    </tr>\n",
       "    <tr>\n",
       "      <th>age</th>\n",
       "      <td>14221.000</td>\n",
       "      <td>1.417</td>\n",
       "      <td>1.109</td>\n",
       "      <td>0.000</td>\n",
       "      <td>0.000</td>\n",
       "      <td>1.000</td>\n",
       "      <td>2.000</td>\n",
       "      <td>3.000</td>\n",
       "    </tr>\n",
       "    <tr>\n",
       "      <th>Previous_Owners</th>\n",
       "      <td>14221.000</td>\n",
       "      <td>1.042</td>\n",
       "      <td>0.335</td>\n",
       "      <td>0.000</td>\n",
       "      <td>1.000</td>\n",
       "      <td>1.000</td>\n",
       "      <td>1.000</td>\n",
       "      <td>4.000</td>\n",
       "    </tr>\n",
       "    <tr>\n",
       "      <th>hp_kW</th>\n",
       "      <td>14221.000</td>\n",
       "      <td>88.730</td>\n",
       "      <td>26.564</td>\n",
       "      <td>40.000</td>\n",
       "      <td>66.000</td>\n",
       "      <td>85.000</td>\n",
       "      <td>103.000</td>\n",
       "      <td>294.000</td>\n",
       "    </tr>\n",
       "    <tr>\n",
       "      <th>Inspection_new</th>\n",
       "      <td>14221.000</td>\n",
       "      <td>0.257</td>\n",
       "      <td>0.437</td>\n",
       "      <td>0.000</td>\n",
       "      <td>0.000</td>\n",
       "      <td>0.000</td>\n",
       "      <td>1.000</td>\n",
       "      <td>1.000</td>\n",
       "    </tr>\n",
       "    <tr>\n",
       "      <th>Displacement_cc</th>\n",
       "      <td>14221.000</td>\n",
       "      <td>1432.533</td>\n",
       "      <td>277.491</td>\n",
       "      <td>890.000</td>\n",
       "      <td>1229.000</td>\n",
       "      <td>1461.000</td>\n",
       "      <td>1598.000</td>\n",
       "      <td>2967.000</td>\n",
       "    </tr>\n",
       "    <tr>\n",
       "      <th>Weight_kg</th>\n",
       "      <td>14221.000</td>\n",
       "      <td>1342.666</td>\n",
       "      <td>201.275</td>\n",
       "      <td>840.000</td>\n",
       "      <td>1165.000</td>\n",
       "      <td>1322.000</td>\n",
       "      <td>1487.000</td>\n",
       "      <td>2471.000</td>\n",
       "    </tr>\n",
       "    <tr>\n",
       "      <th>cons_comb</th>\n",
       "      <td>14221.000</td>\n",
       "      <td>4.825</td>\n",
       "      <td>0.863</td>\n",
       "      <td>3.000</td>\n",
       "      <td>4.100</td>\n",
       "      <td>4.800</td>\n",
       "      <td>5.400</td>\n",
       "      <td>9.100</td>\n",
       "    </tr>\n",
       "  </tbody>\n",
       "</table>\n",
       "</div>"
      ],
      "text/plain": [
       "                    count      mean       std      min       25%       50%   \n",
       "price           14221.000 18107.423  7423.513 4950.000 12950.000 16950.000  \\\n",
       "km              14221.000 32627.045 36864.910    0.000  3921.000 21085.000   \n",
       "Gears           14221.000     5.939     0.703    5.000     5.000     6.000   \n",
       "age             14221.000     1.417     1.109    0.000     0.000     1.000   \n",
       "Previous_Owners 14221.000     1.042     0.335    0.000     1.000     1.000   \n",
       "hp_kW           14221.000    88.730    26.564   40.000    66.000    85.000   \n",
       "Inspection_new  14221.000     0.257     0.437    0.000     0.000     0.000   \n",
       "Displacement_cc 14221.000  1432.533   277.491  890.000  1229.000  1461.000   \n",
       "Weight_kg       14221.000  1342.666   201.275  840.000  1165.000  1322.000   \n",
       "cons_comb       14221.000     4.825     0.863    3.000     4.100     4.800   \n",
       "\n",
       "                      75%        max  \n",
       "price           21900.000  74600.000  \n",
       "km              47000.000 317000.000  \n",
       "Gears               6.000      8.000  \n",
       "age                 2.000      3.000  \n",
       "Previous_Owners     1.000      4.000  \n",
       "hp_kW             103.000    294.000  \n",
       "Inspection_new      1.000      1.000  \n",
       "Displacement_cc  1598.000   2967.000  \n",
       "Weight_kg        1487.000   2471.000  \n",
       "cons_comb           5.400      9.100  "
      ]
     },
     "execution_count": 15,
     "metadata": {},
     "output_type": "execute_result"
    }
   ],
   "source": [
    "df.describe().T"
   ]
  },
  {
   "cell_type": "code",
   "execution_count": 16,
   "id": "6f6ccfc5",
   "metadata": {},
   "outputs": [
    {
     "data": {
      "text/html": [
       "<div>\n",
       "<style scoped>\n",
       "    .dataframe tbody tr th:only-of-type {\n",
       "        vertical-align: middle;\n",
       "    }\n",
       "\n",
       "    .dataframe tbody tr th {\n",
       "        vertical-align: top;\n",
       "    }\n",
       "\n",
       "    .dataframe thead th {\n",
       "        text-align: right;\n",
       "    }\n",
       "</style>\n",
       "<table border=\"1\" class=\"dataframe\">\n",
       "  <thead>\n",
       "    <tr style=\"text-align: right;\">\n",
       "      <th></th>\n",
       "      <th>count</th>\n",
       "      <th>unique</th>\n",
       "      <th>top</th>\n",
       "      <th>freq</th>\n",
       "    </tr>\n",
       "  </thead>\n",
       "  <tbody>\n",
       "    <tr>\n",
       "      <th>make_model</th>\n",
       "      <td>14221</td>\n",
       "      <td>7</td>\n",
       "      <td>Audi A3</td>\n",
       "      <td>2758</td>\n",
       "    </tr>\n",
       "    <tr>\n",
       "      <th>body_type</th>\n",
       "      <td>14221</td>\n",
       "      <td>8</td>\n",
       "      <td>Sedans</td>\n",
       "      <td>7230</td>\n",
       "    </tr>\n",
       "    <tr>\n",
       "      <th>vat</th>\n",
       "      <td>14221</td>\n",
       "      <td>2</td>\n",
       "      <td>VAT deductible</td>\n",
       "      <td>13405</td>\n",
       "    </tr>\n",
       "    <tr>\n",
       "      <th>Type</th>\n",
       "      <td>14221</td>\n",
       "      <td>5</td>\n",
       "      <td>Used</td>\n",
       "      <td>10163</td>\n",
       "    </tr>\n",
       "    <tr>\n",
       "      <th>Fuel</th>\n",
       "      <td>14221</td>\n",
       "      <td>4</td>\n",
       "      <td>Benzine</td>\n",
       "      <td>7538</td>\n",
       "    </tr>\n",
       "    <tr>\n",
       "      <th>Comfort_Convenience</th>\n",
       "      <td>14221</td>\n",
       "      <td>6195</td>\n",
       "      <td>Air conditioning,Electrical side mirrors,Hill ...</td>\n",
       "      <td>312</td>\n",
       "    </tr>\n",
       "    <tr>\n",
       "      <th>Entertainment_Media</th>\n",
       "      <td>14221</td>\n",
       "      <td>346</td>\n",
       "      <td>Bluetooth,Hands-free equipment,On-board comput...</td>\n",
       "      <td>1562</td>\n",
       "    </tr>\n",
       "    <tr>\n",
       "      <th>Extras</th>\n",
       "      <td>14221</td>\n",
       "      <td>659</td>\n",
       "      <td>Alloy wheels</td>\n",
       "      <td>5009</td>\n",
       "    </tr>\n",
       "    <tr>\n",
       "      <th>Safety_Security</th>\n",
       "      <td>14221</td>\n",
       "      <td>4441</td>\n",
       "      <td>ABS,Central door lock,Daytime running lights,D...</td>\n",
       "      <td>635</td>\n",
       "    </tr>\n",
       "    <tr>\n",
       "      <th>Paint_Type</th>\n",
       "      <td>14221</td>\n",
       "      <td>3</td>\n",
       "      <td>Metallic</td>\n",
       "      <td>13678</td>\n",
       "    </tr>\n",
       "    <tr>\n",
       "      <th>Upholstery_type</th>\n",
       "      <td>14221</td>\n",
       "      <td>2</td>\n",
       "      <td>Cloth</td>\n",
       "      <td>10897</td>\n",
       "    </tr>\n",
       "    <tr>\n",
       "      <th>Gearing_Type</th>\n",
       "      <td>14221</td>\n",
       "      <td>3</td>\n",
       "      <td>Manual</td>\n",
       "      <td>7215</td>\n",
       "    </tr>\n",
       "    <tr>\n",
       "      <th>Drive_chain</th>\n",
       "      <td>14221</td>\n",
       "      <td>3</td>\n",
       "      <td>front</td>\n",
       "      <td>14066</td>\n",
       "    </tr>\n",
       "  </tbody>\n",
       "</table>\n",
       "</div>"
      ],
      "text/plain": [
       "                     count unique   \n",
       "make_model           14221      7  \\\n",
       "body_type            14221      8   \n",
       "vat                  14221      2   \n",
       "Type                 14221      5   \n",
       "Fuel                 14221      4   \n",
       "Comfort_Convenience  14221   6195   \n",
       "Entertainment_Media  14221    346   \n",
       "Extras               14221    659   \n",
       "Safety_Security      14221   4441   \n",
       "Paint_Type           14221      3   \n",
       "Upholstery_type      14221      2   \n",
       "Gearing_Type         14221      3   \n",
       "Drive_chain          14221      3   \n",
       "\n",
       "                                                                   top   freq  \n",
       "make_model                                                     Audi A3   2758  \n",
       "body_type                                                       Sedans   7230  \n",
       "vat                                                     VAT deductible  13405  \n",
       "Type                                                              Used  10163  \n",
       "Fuel                                                           Benzine   7538  \n",
       "Comfort_Convenience  Air conditioning,Electrical side mirrors,Hill ...    312  \n",
       "Entertainment_Media  Bluetooth,Hands-free equipment,On-board comput...   1562  \n",
       "Extras                                                    Alloy wheels   5009  \n",
       "Safety_Security      ABS,Central door lock,Daytime running lights,D...    635  \n",
       "Paint_Type                                                    Metallic  13678  \n",
       "Upholstery_type                                                  Cloth  10897  \n",
       "Gearing_Type                                                    Manual   7215  \n",
       "Drive_chain                                                      front  14066  "
      ]
     },
     "execution_count": 16,
     "metadata": {},
     "output_type": "execute_result"
    }
   ],
   "source": [
    "df.describe(include=\"object\").T"
   ]
  },
  {
   "cell_type": "code",
   "execution_count": 17,
   "id": "d17ad4a2",
   "metadata": {},
   "outputs": [
    {
     "name": "stdout",
     "output_type": "stream",
     "text": [
      "Numerical Columns:  Index(['price', 'km', 'Gears', 'age', 'Previous_Owners', 'hp_kW',\n",
      "       'Inspection_new', 'Displacement_cc', 'Weight_kg', 'cons_comb'],\n",
      "      dtype='object')\n",
      "\n",
      "\n",
      "Categorical Columns: Index(['make_model', 'body_type', 'vat', 'Type', 'Fuel', 'Comfort_Convenience',\n",
      "       'Entertainment_Media', 'Extras', 'Safety_Security', 'Paint_Type',\n",
      "       'Upholstery_type', 'Gearing_Type', 'Drive_chain'],\n",
      "      dtype='object')\n"
     ]
    }
   ],
   "source": [
    "numerical= df.select_dtypes('number').columns\n",
    "categorical = df.select_dtypes('object').columns\n",
    "\n",
    "print(f'Numerical Columns:  {df[numerical].columns}')\n",
    "print('\\n')\n",
    "print(f'Categorical Columns: {df[categorical].columns}')"
   ]
  },
  {
   "cell_type": "code",
   "execution_count": 18,
   "id": "6690610f",
   "metadata": {},
   "outputs": [
    {
     "name": "stdout",
     "output_type": "stream",
     "text": [
      "Number of Uniques:\n",
      "make_model                7\n",
      "body_type                 8\n",
      "price                  2948\n",
      "vat                       2\n",
      "km                     6689\n",
      "Type                      5\n",
      "Fuel                      4\n",
      "Gears                     4\n",
      "Comfort_Convenience    6195\n",
      "Entertainment_Media     346\n",
      "Extras                  659\n",
      "Safety_Security        4441\n",
      "age                       4\n",
      "Previous_Owners           5\n",
      "hp_kW                    77\n",
      "Inspection_new            2\n",
      "Paint_Type                3\n",
      "Upholstery_type           2\n",
      "Gearing_Type              3\n",
      "Displacement_cc          68\n",
      "Weight_kg               432\n",
      "Drive_chain               3\n",
      "cons_comb                62\n",
      "dtype: int64\n",
      "\n"
     ]
    }
   ],
   "source": [
    "print(\"Number of Uniques:\\n\", df.nunique(),'\\n', sep='')"
   ]
  },
  {
   "cell_type": "code",
   "execution_count": 19,
   "id": "9cf1a4eb",
   "metadata": {},
   "outputs": [
    {
     "data": {
      "image/png": "[encoded data removed]",
      "text/plain": [
       "<Figure size 640x480 with 2 Axes>"
      ]
     },
     "metadata": {},
     "output_type": "display_data"
    }
   ],
   "source": [
    "sns.heatmap(df.corr(method='pearson', min_periods=1, numeric_only=True), annot=True);"
   ]
  },
  {
   "cell_type": "code",
   "execution_count": 20,
   "id": "97e6f12f",
   "metadata": {},
   "outputs": [],
   "source": [
    "final_df=[\"make_model\", \"km\", \"Gearing_Type\",\"hp_kW\", \"age\", \"Displacement_cc\"]"
   ]
  },
  {
   "attachments": {},
   "cell_type": "markdown",
   "id": "f6ea318b",
   "metadata": {},
   "source": [
    "## Modelling"
   ]
  },
  {
   "cell_type": "code",
   "execution_count": 21,
   "id": "4d016a7d",
   "metadata": {},
   "outputs": [],
   "source": [
    "X=df[final_df]\n",
    "y=df['price']"
   ]
  },
  {
   "cell_type": "code",
   "execution_count": 22,
   "id": "84136b25",
   "metadata": {},
   "outputs": [
    {
     "data": {
      "text/html": [
       "<div>\n",
       "<style scoped>\n",
       "    .dataframe tbody tr th:only-of-type {\n",
       "        vertical-align: middle;\n",
       "    }\n",
       "\n",
       "    .dataframe tbody tr th {\n",
       "        vertical-align: top;\n",
       "    }\n",
       "\n",
       "    .dataframe thead th {\n",
       "        text-align: right;\n",
       "    }\n",
       "</style>\n",
       "<table border=\"1\" class=\"dataframe\">\n",
       "  <thead>\n",
       "    <tr style=\"text-align: right;\">\n",
       "      <th></th>\n",
       "      <th>make_model</th>\n",
       "      <th>km</th>\n",
       "      <th>Gearing_Type</th>\n",
       "      <th>hp_kW</th>\n",
       "      <th>age</th>\n",
       "      <th>Displacement_cc</th>\n",
       "    </tr>\n",
       "  </thead>\n",
       "  <tbody>\n",
       "    <tr>\n",
       "      <th>11849</th>\n",
       "      <td>Opel Insignia</td>\n",
       "      <td>1647.363</td>\n",
       "      <td>Manual</td>\n",
       "      <td>100.000</td>\n",
       "      <td>0.000</td>\n",
       "      <td>1598.000</td>\n",
       "    </tr>\n",
       "    <tr>\n",
       "      <th>2525</th>\n",
       "      <td>Audi A3</td>\n",
       "      <td>123750.000</td>\n",
       "      <td>Automatic</td>\n",
       "      <td>110.000</td>\n",
       "      <td>3.000</td>\n",
       "      <td>1968.000</td>\n",
       "    </tr>\n",
       "    <tr>\n",
       "      <th>11454</th>\n",
       "      <td>Opel Insignia</td>\n",
       "      <td>15000.000</td>\n",
       "      <td>Automatic</td>\n",
       "      <td>100.000</td>\n",
       "      <td>0.000</td>\n",
       "      <td>1598.000</td>\n",
       "    </tr>\n",
       "    <tr>\n",
       "      <th>6687</th>\n",
       "      <td>Opel Astra</td>\n",
       "      <td>20296.000</td>\n",
       "      <td>Manual</td>\n",
       "      <td>92.000</td>\n",
       "      <td>1.000</td>\n",
       "      <td>1400.000</td>\n",
       "    </tr>\n",
       "    <tr>\n",
       "      <th>842</th>\n",
       "      <td>Audi A1</td>\n",
       "      <td>12900.000</td>\n",
       "      <td>Manual</td>\n",
       "      <td>70.000</td>\n",
       "      <td>2.000</td>\n",
       "      <td>999.000</td>\n",
       "    </tr>\n",
       "  </tbody>\n",
       "</table>\n",
       "</div>"
      ],
      "text/plain": [
       "          make_model         km Gearing_Type   hp_kW   age  Displacement_cc\n",
       "11849  Opel Insignia   1647.363       Manual 100.000 0.000         1598.000\n",
       "2525         Audi A3 123750.000    Automatic 110.000 3.000         1968.000\n",
       "11454  Opel Insignia  15000.000    Automatic 100.000 0.000         1598.000\n",
       "6687      Opel Astra  20296.000       Manual  92.000 1.000         1400.000\n",
       "842          Audi A1  12900.000       Manual  70.000 2.000          999.000"
      ]
     },
     "execution_count": 22,
     "metadata": {},
     "output_type": "execute_result"
    }
   ],
   "source": [
    "X.sample(5)"
   ]
  },
  {
   "cell_type": "code",
   "execution_count": 23,
   "id": "0ae6e440",
   "metadata": {},
   "outputs": [
    {
     "data": {
      "text/plain": [
       "(14221, 6)"
      ]
     },
     "execution_count": 23,
     "metadata": {},
     "output_type": "execute_result"
    }
   ],
   "source": [
    "X.shape"
   ]
  },
  {
   "cell_type": "code",
   "execution_count": 24,
   "id": "3ac7b13d",
   "metadata": {},
   "outputs": [
    {
     "data": {
      "text/plain": [
       "(14221,)"
      ]
     },
     "execution_count": 24,
     "metadata": {},
     "output_type": "execute_result"
    }
   ],
   "source": [
    "y.shape"
   ]
  },
  {
   "cell_type": "code",
   "execution_count": 25,
   "id": "7c1ff339",
   "metadata": {},
   "outputs": [],
   "source": [
    "X_train, X_test, y_train, y_test = train_test_split(X, y, test_size = 0.2, random_state = 42)"
   ]
  },
  {
   "cell_type": "code",
   "execution_count": 26,
   "id": "832b5d36",
   "metadata": {},
   "outputs": [],
   "source": [
    "from sklearn.compose import make_column_transformer\n",
    "from sklearn.preprocessing import OrdinalEncoder"
   ]
  },
  {
   "cell_type": "code",
   "execution_count": 27,
   "id": "3279da2b",
   "metadata": {},
   "outputs": [
    {
     "data": {
      "text/plain": [
       "Index(['make_model', 'Gearing_Type'], dtype='object')"
      ]
     },
     "execution_count": 27,
     "metadata": {},
     "output_type": "execute_result"
    }
   ],
   "source": [
    "cat_ordinal = X_train.select_dtypes(\"object\").columns\n",
    "cat_ordinal"
   ]
  },
  {
   "cell_type": "code",
   "execution_count": 28,
   "id": "8b3e5c26",
   "metadata": {},
   "outputs": [],
   "source": [
    "ord_enc = OrdinalEncoder()\n",
    "column_trans = make_column_transformer((ord_enc, cat_ordinal), remainder='passthrough')"
   ]
  },
  {
   "cell_type": "code",
   "execution_count": 29,
   "id": "809314fc",
   "metadata": {},
   "outputs": [
    {
     "data": {
      "text/html": [
       "<div>\n",
       "<style scoped>\n",
       "    .dataframe tbody tr th:only-of-type {\n",
       "        vertical-align: middle;\n",
       "    }\n",
       "\n",
       "    .dataframe tbody tr th {\n",
       "        vertical-align: top;\n",
       "    }\n",
       "\n",
       "    .dataframe thead th {\n",
       "        text-align: right;\n",
       "    }\n",
       "</style>\n",
       "<table border=\"1\" class=\"dataframe\">\n",
       "  <thead>\n",
       "    <tr style=\"text-align: right;\">\n",
       "      <th></th>\n",
       "      <th>make_model</th>\n",
       "      <th>km</th>\n",
       "      <th>Gearing_Type</th>\n",
       "      <th>hp_kW</th>\n",
       "      <th>age</th>\n",
       "      <th>Displacement_cc</th>\n",
       "    </tr>\n",
       "  </thead>\n",
       "  <tbody>\n",
       "    <tr>\n",
       "      <th>5276</th>\n",
       "      <td>Opel Astra</td>\n",
       "      <td>67623.000</td>\n",
       "      <td>Automatic</td>\n",
       "      <td>100.000</td>\n",
       "      <td>2.000</td>\n",
       "      <td>1598.000</td>\n",
       "    </tr>\n",
       "    <tr>\n",
       "      <th>374</th>\n",
       "      <td>Audi A1</td>\n",
       "      <td>19582.000</td>\n",
       "      <td>Automatic</td>\n",
       "      <td>70.000</td>\n",
       "      <td>3.000</td>\n",
       "      <td>999.000</td>\n",
       "    </tr>\n",
       "    <tr>\n",
       "      <th>11107</th>\n",
       "      <td>Opel Insignia</td>\n",
       "      <td>24980.000</td>\n",
       "      <td>Manual</td>\n",
       "      <td>125.000</td>\n",
       "      <td>1.000</td>\n",
       "      <td>1956.000</td>\n",
       "    </tr>\n",
       "    <tr>\n",
       "      <th>5250</th>\n",
       "      <td>Opel Astra</td>\n",
       "      <td>26000.000</td>\n",
       "      <td>Automatic</td>\n",
       "      <td>100.000</td>\n",
       "      <td>2.000</td>\n",
       "      <td>1598.000</td>\n",
       "    </tr>\n",
       "    <tr>\n",
       "      <th>10337</th>\n",
       "      <td>Opel Insignia</td>\n",
       "      <td>37125.000</td>\n",
       "      <td>Automatic</td>\n",
       "      <td>125.000</td>\n",
       "      <td>2.000</td>\n",
       "      <td>1956.000</td>\n",
       "    </tr>\n",
       "  </tbody>\n",
       "</table>\n",
       "</div>"
      ],
      "text/plain": [
       "          make_model        km Gearing_Type   hp_kW   age  Displacement_cc\n",
       "5276      Opel Astra 67623.000    Automatic 100.000 2.000         1598.000\n",
       "374          Audi A1 19582.000    Automatic  70.000 3.000          999.000\n",
       "11107  Opel Insignia 24980.000       Manual 125.000 1.000         1956.000\n",
       "5250      Opel Astra 26000.000    Automatic 100.000 2.000         1598.000\n",
       "10337  Opel Insignia 37125.000    Automatic 125.000 2.000         1956.000"
      ]
     },
     "execution_count": 29,
     "metadata": {},
     "output_type": "execute_result"
    }
   ],
   "source": [
    "X_train.sample(5)"
   ]
  },
  {
   "cell_type": "code",
   "execution_count": 30,
   "id": "d74278d5",
   "metadata": {},
   "outputs": [],
   "source": [
    "X_train=column_trans.fit_transform(X_train)\n",
    "X_test=column_trans.transform(X_test)"
   ]
  },
  {
   "cell_type": "code",
   "execution_count": 31,
   "id": "e6efaaca",
   "metadata": {},
   "outputs": [],
   "source": [
    "from sklearn.ensemble import RandomForestRegressor"
   ]
  },
  {
   "cell_type": "code",
   "execution_count": 32,
   "id": "bdfcd630",
   "metadata": {},
   "outputs": [
    {
     "data": {
      "text/plain": [
       "RandomForestRegressor()"
      ]
     },
     "execution_count": 32,
     "metadata": {},
     "output_type": "execute_result"
    }
   ],
   "source": [
    "rf_model = RandomForestRegressor()\n",
    "rf_model.fit(X_train, y_train)"
   ]
  },
  {
   "cell_type": "code",
   "execution_count": 33,
   "id": "69a5629a",
   "metadata": {},
   "outputs": [],
   "source": [
    "y_pred = rf_model.predict(X_test)"
   ]
  },
  {
   "cell_type": "code",
   "execution_count": 34,
   "id": "25d597e0",
   "metadata": {},
   "outputs": [],
   "source": [
    "def eval_metrics(actual, pred):\n",
    "    rmse = np.sqrt(mean_squared_error(actual, pred))\n",
    "    mae = mean_absolute_error(actual, pred)\n",
    "    mse = mean_squared_error(actual, pred)\n",
    "    score = r2_score(actual, pred)\n",
    "    return print(\" r2_score:\", score, \"\\n\",\"mae:\", mae, \"\\n\",\"mse:\",mse, \"\\n\",\"rmse:\",rmse)"
   ]
  },
  {
   "cell_type": "code",
   "execution_count": 35,
   "id": "714ce44e",
   "metadata": {},
   "outputs": [
    {
     "name": "stdout",
     "output_type": "stream",
     "text": [
      " r2_score: 0.9211608724649307 \n",
      " mae: 1217.7264421937016 \n",
      " mse: 4311415.455750806 \n",
      " rmse: 2076.3948217405105\n"
     ]
    }
   ],
   "source": [
    "eval_metrics(y_test,y_pred)"
   ]
  },
  {
   "cell_type": "code",
   "execution_count": 36,
   "id": "3120d990",
   "metadata": {},
   "outputs": [],
   "source": [
    "import pickle"
   ]
  },
  {
   "cell_type": "code",
   "execution_count": 37,
   "id": "36030a89",
   "metadata": {},
   "outputs": [],
   "source": [
    "pickle.dump(rf_model, open(\"final_RF_model\", 'wb'))"
   ]
  },
  {
   "cell_type": "code",
   "execution_count": 38,
   "id": "dd47ef1e",
   "metadata": {},
   "outputs": [],
   "source": [
    "pickle.dump(column_trans, open('transformer', 'wb'))"
   ]
  },
  {
   "attachments": {},
   "cell_type": "markdown",
   "id": "b6eac018",
   "metadata": {},
   "source": [
    "## Final Model Deployment"
   ]
  },
  {
   "cell_type": "code",
   "execution_count": 39,
   "id": "fe9c1034",
   "metadata": {},
   "outputs": [],
   "source": [
    "final_model = pickle.load(open('final_RF_model', 'rb'))"
   ]
  },
  {
   "cell_type": "code",
   "execution_count": 40,
   "id": "d2b50843",
   "metadata": {},
   "outputs": [],
   "source": [
    "final_model_transformer = pickle.load(open('transformer', 'rb'))"
   ]
  },
  {
   "cell_type": "code",
   "execution_count": 41,
   "id": "219309ae",
   "metadata": {},
   "outputs": [
    {
     "data": {
      "text/plain": [
       "['make_model', 'km', 'Gearing_Type', 'hp_kW', 'age', 'Displacement_cc']"
      ]
     },
     "execution_count": 41,
     "metadata": {},
     "output_type": "execute_result"
    }
   ],
   "source": [
    "columns=list(X.columns)\n",
    "columns"
   ]
  },
  {
   "cell_type": "code",
   "execution_count": 44,
   "id": "3085be6b",
   "metadata": {},
   "outputs": [],
   "source": [
    "my_dict = {\n",
    "    \"age\": 3,\n",
    "    \"hp_kW\": 150,\n",
    "    \"km\": 10000,\n",
    "    \"Gearing_Type\":\"Automatic\",\n",
    "    \"make_model\": 'Opel Insignia',\n",
    "    'Displacement_cc' :1250 \n",
    "}"
   ]
  },
  {
   "cell_type": "code",
   "execution_count": 45,
   "id": "f2bc4307",
   "metadata": {},
   "outputs": [],
   "source": [
    "df0 = pd.DataFrame([my_dict])"
   ]
  },
  {
   "cell_type": "code",
   "execution_count": 46,
   "id": "f06a0cab",
   "metadata": {},
   "outputs": [
    {
     "data": {
      "text/html": [
       "<div>\n",
       "<style scoped>\n",
       "    .dataframe tbody tr th:only-of-type {\n",
       "        vertical-align: middle;\n",
       "    }\n",
       "\n",
       "    .dataframe tbody tr th {\n",
       "        vertical-align: top;\n",
       "    }\n",
       "\n",
       "    .dataframe thead th {\n",
       "        text-align: right;\n",
       "    }\n",
       "</style>\n",
       "<table border=\"1\" class=\"dataframe\">\n",
       "  <thead>\n",
       "    <tr style=\"text-align: right;\">\n",
       "      <th></th>\n",
       "      <th>age</th>\n",
       "      <th>hp_kW</th>\n",
       "      <th>km</th>\n",
       "      <th>Gearing_Type</th>\n",
       "      <th>make_model</th>\n",
       "      <th>Displacement_cc</th>\n",
       "    </tr>\n",
       "  </thead>\n",
       "  <tbody>\n",
       "    <tr>\n",
       "      <th>0</th>\n",
       "      <td>3</td>\n",
       "      <td>150</td>\n",
       "      <td>10000</td>\n",
       "      <td>Automatic</td>\n",
       "      <td>Opel Insignia</td>\n",
       "      <td>1250</td>\n",
       "    </tr>\n",
       "  </tbody>\n",
       "</table>\n",
       "</div>"
      ],
      "text/plain": [
       "   age  hp_kW     km Gearing_Type     make_model  Displacement_cc\n",
       "0    3    150  10000    Automatic  Opel Insignia             1250"
      ]
     },
     "execution_count": 46,
     "metadata": {},
     "output_type": "execute_result"
    }
   ],
   "source": [
    "df0.head()"
   ]
  },
  {
   "cell_type": "code",
   "execution_count": 47,
   "id": "2637b326",
   "metadata": {},
   "outputs": [],
   "source": [
    "df1 = final_model_transformer.transform(df0)"
   ]
  },
  {
   "cell_type": "code",
   "execution_count": 48,
   "id": "1848e84e",
   "metadata": {},
   "outputs": [
    {
     "name": "stdout",
     "output_type": "stream",
     "text": [
      "[17376.584]\n"
     ]
    }
   ],
   "source": [
    "prediction = final_model.predict(df1)\n",
    "print(prediction)"
   ]
  },
  {
   "cell_type": "code",
   "execution_count": 49,
   "id": "fb752f6b",
   "metadata": {},
   "outputs": [
    {
     "name": "stdout",
     "output_type": "stream",
     "text": [
      "The estimated price of your car is €17376. \n"
     ]
    }
   ],
   "source": [
    "print(\"The estimated price of your car is €{}. \".format(int(prediction[0])))"
   ]
  }
 ],
 "metadata": {
  "kernelspec": {
   "display_name": "Python 3 (ipykernel)",
   "language": "python",
   "name": "python3"
  },
  "language_info": {
   "codemirror_mode": {
    "name": "ipython",
    "version": 3
   },
   "file_extension": ".py",
   "mimetype": "text/x-python",
   "name": "python",
   "nbconvert_exporter": "python",
   "pygments_lexer": "ipython3",
   "version": "3.11.0"
  }
 },
 "nbformat": 4,
 "nbformat_minor": 5
}
